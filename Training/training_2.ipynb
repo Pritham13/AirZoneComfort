{
 "cells": [
  {
   "cell_type": "code",
   "execution_count": 1,
   "metadata": {},
   "outputs": [
    {
     "name": "stderr",
     "output_type": "stream",
     "text": [
      "C:\\Users\\prit4\\AppData\\Local\\Temp\\ipykernel_19964\\291067091.py:1: DeprecationWarning: \n",
      "Pyarrow will become a required dependency of pandas in the next major release of pandas (pandas 3.0),\n",
      "(to allow more performant data types, such as the Arrow string type, and better interoperability with other libraries)\n",
      "but was not found to be installed on your system.\n",
      "If this would cause problems for you,\n",
      "please provide us feedback at https://github.com/pandas-dev/pandas/issues/54466\n",
      "        \n",
      "  import pandas as pd\n"
     ]
    },
    {
     "name": "stdout",
     "output_type": "stream",
     "text": [
      "WARNING:tensorflow:From c:\\Users\\prit4\\OneDrive\\Desktop\\stuff\\active_Github_repos\\Mini_project\\myenv\\lib\\site-packages\\keras\\src\\losses.py:2976: The name tf.losses.sparse_softmax_cross_entropy is deprecated. Please use tf.compat.v1.losses.sparse_softmax_cross_entropy instead.\n",
      "\n"
     ]
    }
   ],
   "source": [
    "import pandas as pd\n",
    "import tensorflow as tf\n",
    "from sklearn.preprocessing import MinMaxScaler\n",
    "from sklearn.model_selection import train_test_split\n",
    "import numpy as np"
   ]
  },
  {
   "cell_type": "code",
   "execution_count": 2,
   "metadata": {},
   "outputs": [],
   "source": [
    "dataset_path = \"dataset.csv\"\n",
    "df = pd.read_csv(dataset_path)"
   ]
  },
  {
   "cell_type": "code",
   "execution_count": 3,
   "metadata": {},
   "outputs": [
    {
     "name": "stdout",
     "output_type": "stream",
     "text": [
      "Negative values removed from the dataset.\n"
     ]
    }
   ],
   "source": [
    "# Remove negative values from the dataset\n",
    "for column in df.select_dtypes(include=['int64', 'float64']).columns:\n",
    "    df = df[df[column] >= 0]\n",
    "\n",
    "print('Negative values removed from the dataset.')"
   ]
  },
  {
   "cell_type": "code",
   "execution_count": 4,
   "metadata": {},
   "outputs": [],
   "source": [
    "scaler = MinMaxScaler()\n",
    "scaled_features = scaler.fit_transform(df[['month', 'day', 'time', 'humidity', 'tempC']])"
   ]
  },
  {
   "cell_type": "code",
   "execution_count": 5,
   "metadata": {},
   "outputs": [],
   "source": [
    "X = scaled_features\n",
    "y = df['fan_speed'].values\n",
    "X_train, X_test, y_train, y_test = train_test_split(X, y, test_size=0.2, random_state=0)\n"
   ]
  },
  {
   "cell_type": "code",
   "execution_count": 6,
   "metadata": {},
   "outputs": [
    {
     "name": "stdout",
     "output_type": "stream",
     "text": [
      "WARNING:tensorflow:From c:\\Users\\prit4\\OneDrive\\Desktop\\stuff\\active_Github_repos\\Mini_project\\myenv\\lib\\site-packages\\keras\\src\\backend.py:873: The name tf.get_default_graph is deprecated. Please use tf.compat.v1.get_default_graph instead.\n",
      "\n"
     ]
    }
   ],
   "source": [
    "model = tf.keras.Sequential([\n",
    "    tf.keras.layers.Dense(50, activation='relu', input_shape=(5,)),\n",
    "    tf.keras.layers.Dense(50, activation='relu'),\n",
    "    tf.keras.layers.Dense(6, activation='softmax')  # Softmax activation for multi-class classification\n",
    "])"
   ]
  },
  {
   "cell_type": "code",
   "execution_count": 7,
   "metadata": {},
   "outputs": [
    {
     "name": "stdout",
     "output_type": "stream",
     "text": [
      "WARNING:tensorflow:From c:\\Users\\prit4\\OneDrive\\Desktop\\stuff\\active_Github_repos\\Mini_project\\myenv\\lib\\site-packages\\keras\\src\\optimizers\\__init__.py:309: The name tf.train.Optimizer is deprecated. Please use tf.compat.v1.train.Optimizer instead.\n",
      "\n",
      "Epoch 1/100\n",
      "WARNING:tensorflow:From c:\\Users\\prit4\\OneDrive\\Desktop\\stuff\\active_Github_repos\\Mini_project\\myenv\\lib\\site-packages\\keras\\src\\utils\\tf_utils.py:492: The name tf.ragged.RaggedTensorValue is deprecated. Please use tf.compat.v1.ragged.RaggedTensorValue instead.\n",
      "\n",
      "WARNING:tensorflow:From c:\\Users\\prit4\\OneDrive\\Desktop\\stuff\\active_Github_repos\\Mini_project\\myenv\\lib\\site-packages\\keras\\src\\engine\\base_layer_utils.py:384: The name tf.executing_eagerly_outside_functions is deprecated. Please use tf.compat.v1.executing_eagerly_outside_functions instead.\n",
      "\n",
      "88/88 [==============================] - 3s 9ms/step - loss: 1.5078 - accuracy: 0.3885 - val_loss: 1.3652 - val_accuracy: 0.4147\n",
      "Epoch 2/100\n",
      "88/88 [==============================] - 0s 4ms/step - loss: 1.2811 - accuracy: 0.4551 - val_loss: 1.1770 - val_accuracy: 0.5270\n",
      "Epoch 3/100\n",
      "88/88 [==============================] - 0s 4ms/step - loss: 1.1335 - accuracy: 0.5204 - val_loss: 1.0560 - val_accuracy: 0.5562\n",
      "Epoch 4/100\n",
      "88/88 [==============================] - 0s 5ms/step - loss: 1.0234 - accuracy: 0.5656 - val_loss: 0.9536 - val_accuracy: 0.6081\n",
      "Epoch 5/100\n",
      "88/88 [==============================] - 0s 4ms/step - loss: 0.9336 - accuracy: 0.6058 - val_loss: 0.8735 - val_accuracy: 0.6415\n",
      "Epoch 6/100\n",
      "88/88 [==============================] - 0s 4ms/step - loss: 0.8614 - accuracy: 0.6399 - val_loss: 0.8128 - val_accuracy: 0.6693\n",
      "Epoch 7/100\n",
      "88/88 [==============================] - 0s 4ms/step - loss: 0.8002 - accuracy: 0.6703 - val_loss: 0.7546 - val_accuracy: 0.6728\n",
      "Epoch 8/100\n",
      "88/88 [==============================] - 0s 4ms/step - loss: 0.7521 - accuracy: 0.6869 - val_loss: 0.7156 - val_accuracy: 0.7006\n",
      "Epoch 9/100\n",
      "88/88 [==============================] - 0s 3ms/step - loss: 0.7185 - accuracy: 0.7033 - val_loss: 0.6860 - val_accuracy: 0.7084\n",
      "Epoch 10/100\n",
      "88/88 [==============================] - 0s 4ms/step - loss: 0.6886 - accuracy: 0.7159 - val_loss: 0.6647 - val_accuracy: 0.7226\n",
      "Epoch 11/100\n",
      "88/88 [==============================] - 0s 4ms/step - loss: 0.6705 - accuracy: 0.7221 - val_loss: 0.6451 - val_accuracy: 0.7312\n",
      "Epoch 12/100\n",
      "88/88 [==============================] - 0s 4ms/step - loss: 0.6522 - accuracy: 0.7365 - val_loss: 0.6296 - val_accuracy: 0.7432\n",
      "Epoch 13/100\n",
      "88/88 [==============================] - 0s 4ms/step - loss: 0.6402 - accuracy: 0.7436 - val_loss: 0.6110 - val_accuracy: 0.7454\n",
      "Epoch 14/100\n",
      "88/88 [==============================] - 0s 4ms/step - loss: 0.6232 - accuracy: 0.7531 - val_loss: 0.5990 - val_accuracy: 0.7475\n",
      "Epoch 15/100\n",
      "88/88 [==============================] - 0s 4ms/step - loss: 0.6117 - accuracy: 0.7570 - val_loss: 0.5937 - val_accuracy: 0.7354\n",
      "Epoch 16/100\n",
      "88/88 [==============================] - 0s 4ms/step - loss: 0.6032 - accuracy: 0.7637 - val_loss: 0.5896 - val_accuracy: 0.7518\n",
      "Epoch 17/100\n",
      "88/88 [==============================] - 0s 4ms/step - loss: 0.5946 - accuracy: 0.7648 - val_loss: 0.5780 - val_accuracy: 0.7752\n",
      "Epoch 18/100\n",
      "88/88 [==============================] - 0s 4ms/step - loss: 0.5875 - accuracy: 0.7684 - val_loss: 0.5657 - val_accuracy: 0.7696\n",
      "Epoch 19/100\n",
      "88/88 [==============================] - 0s 3ms/step - loss: 0.5750 - accuracy: 0.7778 - val_loss: 0.5523 - val_accuracy: 0.7731\n",
      "Epoch 20/100\n",
      "88/88 [==============================] - 0s 3ms/step - loss: 0.5657 - accuracy: 0.7826 - val_loss: 0.5481 - val_accuracy: 0.7824\n",
      "Epoch 21/100\n",
      "88/88 [==============================] - 0s 4ms/step - loss: 0.5557 - accuracy: 0.7837 - val_loss: 0.5431 - val_accuracy: 0.7817\n",
      "Epoch 22/100\n",
      "88/88 [==============================] - 0s 4ms/step - loss: 0.5461 - accuracy: 0.7908 - val_loss: 0.5306 - val_accuracy: 0.7831\n",
      "Epoch 23/100\n",
      "88/88 [==============================] - 0s 4ms/step - loss: 0.5419 - accuracy: 0.7904 - val_loss: 0.5211 - val_accuracy: 0.8009\n",
      "Epoch 24/100\n",
      "88/88 [==============================] - 0s 3ms/step - loss: 0.5335 - accuracy: 0.7967 - val_loss: 0.5340 - val_accuracy: 0.7681\n",
      "Epoch 25/100\n",
      "88/88 [==============================] - 0s 3ms/step - loss: 0.5256 - accuracy: 0.7995 - val_loss: 0.5058 - val_accuracy: 0.8044\n",
      "Epoch 26/100\n",
      "88/88 [==============================] - 0s 4ms/step - loss: 0.5178 - accuracy: 0.8013 - val_loss: 0.5105 - val_accuracy: 0.7930\n",
      "Epoch 27/100\n",
      "88/88 [==============================] - 0s 3ms/step - loss: 0.5097 - accuracy: 0.8084 - val_loss: 0.4958 - val_accuracy: 0.7980\n",
      "Epoch 28/100\n",
      "88/88 [==============================] - 0s 3ms/step - loss: 0.5000 - accuracy: 0.8127 - val_loss: 0.4870 - val_accuracy: 0.8172\n",
      "Epoch 29/100\n",
      "88/88 [==============================] - 0s 3ms/step - loss: 0.4973 - accuracy: 0.8107 - val_loss: 0.4824 - val_accuracy: 0.8058\n",
      "Epoch 30/100\n",
      "88/88 [==============================] - 0s 3ms/step - loss: 0.4891 - accuracy: 0.8144 - val_loss: 0.4809 - val_accuracy: 0.8137\n",
      "Epoch 31/100\n",
      "88/88 [==============================] - 0s 4ms/step - loss: 0.4827 - accuracy: 0.8216 - val_loss: 0.4809 - val_accuracy: 0.8001\n",
      "Epoch 32/100\n",
      "88/88 [==============================] - 0s 4ms/step - loss: 0.4761 - accuracy: 0.8205 - val_loss: 0.4614 - val_accuracy: 0.8158\n",
      "Epoch 33/100\n",
      "88/88 [==============================] - 0s 3ms/step - loss: 0.4684 - accuracy: 0.8233 - val_loss: 0.4500 - val_accuracy: 0.8236\n",
      "Epoch 34/100\n",
      "88/88 [==============================] - 0s 3ms/step - loss: 0.4622 - accuracy: 0.8269 - val_loss: 0.4599 - val_accuracy: 0.8321\n",
      "Epoch 35/100\n",
      "88/88 [==============================] - 0s 4ms/step - loss: 0.4578 - accuracy: 0.8273 - val_loss: 0.4438 - val_accuracy: 0.8286\n",
      "Epoch 36/100\n",
      "88/88 [==============================] - 0s 3ms/step - loss: 0.4508 - accuracy: 0.8317 - val_loss: 0.4457 - val_accuracy: 0.8257\n",
      "Epoch 37/100\n",
      "88/88 [==============================] - 0s 3ms/step - loss: 0.4491 - accuracy: 0.8337 - val_loss: 0.4441 - val_accuracy: 0.8186\n",
      "Epoch 38/100\n",
      "88/88 [==============================] - 0s 4ms/step - loss: 0.4450 - accuracy: 0.8328 - val_loss: 0.4270 - val_accuracy: 0.8336\n",
      "Epoch 39/100\n",
      "88/88 [==============================] - 0s 3ms/step - loss: 0.4382 - accuracy: 0.8353 - val_loss: 0.4242 - val_accuracy: 0.8336\n",
      "Epoch 40/100\n",
      "88/88 [==============================] - 0s 4ms/step - loss: 0.4298 - accuracy: 0.8376 - val_loss: 0.4157 - val_accuracy: 0.8385\n",
      "Epoch 41/100\n",
      "88/88 [==============================] - 0s 4ms/step - loss: 0.4255 - accuracy: 0.8408 - val_loss: 0.4145 - val_accuracy: 0.8435\n",
      "Epoch 42/100\n",
      "88/88 [==============================] - 0s 4ms/step - loss: 0.4205 - accuracy: 0.8440 - val_loss: 0.4171 - val_accuracy: 0.8321\n",
      "Epoch 43/100\n",
      "88/88 [==============================] - 0s 3ms/step - loss: 0.4138 - accuracy: 0.8449 - val_loss: 0.4043 - val_accuracy: 0.8407\n",
      "Epoch 44/100\n",
      "88/88 [==============================] - 0s 4ms/step - loss: 0.4108 - accuracy: 0.8500 - val_loss: 0.4290 - val_accuracy: 0.8357\n",
      "Epoch 45/100\n",
      "88/88 [==============================] - 0s 3ms/step - loss: 0.4100 - accuracy: 0.8449 - val_loss: 0.4021 - val_accuracy: 0.8336\n",
      "Epoch 46/100\n",
      "88/88 [==============================] - 0s 4ms/step - loss: 0.4001 - accuracy: 0.8525 - val_loss: 0.3895 - val_accuracy: 0.8400\n",
      "Epoch 47/100\n",
      "88/88 [==============================] - 0s 3ms/step - loss: 0.3957 - accuracy: 0.8579 - val_loss: 0.3939 - val_accuracy: 0.8393\n",
      "Epoch 48/100\n",
      "88/88 [==============================] - 0s 3ms/step - loss: 0.3935 - accuracy: 0.8550 - val_loss: 0.3907 - val_accuracy: 0.8428\n",
      "Epoch 49/100\n",
      "88/88 [==============================] - 0s 3ms/step - loss: 0.3892 - accuracy: 0.8573 - val_loss: 0.4063 - val_accuracy: 0.8457\n",
      "Epoch 50/100\n",
      "88/88 [==============================] - 0s 4ms/step - loss: 0.3897 - accuracy: 0.8573 - val_loss: 0.3787 - val_accuracy: 0.8492\n",
      "Epoch 51/100\n",
      "88/88 [==============================] - 0s 3ms/step - loss: 0.3837 - accuracy: 0.8625 - val_loss: 0.3837 - val_accuracy: 0.8563\n",
      "Epoch 52/100\n",
      "88/88 [==============================] - 0s 3ms/step - loss: 0.3785 - accuracy: 0.8602 - val_loss: 0.3704 - val_accuracy: 0.8578\n",
      "Epoch 53/100\n",
      "88/88 [==============================] - 0s 3ms/step - loss: 0.3712 - accuracy: 0.8643 - val_loss: 0.3782 - val_accuracy: 0.8563\n",
      "Epoch 54/100\n",
      "88/88 [==============================] - 0s 3ms/step - loss: 0.3763 - accuracy: 0.8616 - val_loss: 0.3677 - val_accuracy: 0.8464\n",
      "Epoch 55/100\n",
      "88/88 [==============================] - 0s 3ms/step - loss: 0.3745 - accuracy: 0.8602 - val_loss: 0.3613 - val_accuracy: 0.8542\n",
      "Epoch 56/100\n",
      "88/88 [==============================] - 0s 3ms/step - loss: 0.3650 - accuracy: 0.8655 - val_loss: 0.3637 - val_accuracy: 0.8435\n",
      "Epoch 57/100\n",
      "88/88 [==============================] - 0s 4ms/step - loss: 0.3649 - accuracy: 0.8634 - val_loss: 0.3690 - val_accuracy: 0.8556\n",
      "Epoch 58/100\n",
      "88/88 [==============================] - 0s 3ms/step - loss: 0.3600 - accuracy: 0.8655 - val_loss: 0.3533 - val_accuracy: 0.8521\n",
      "Epoch 59/100\n",
      "88/88 [==============================] - 0s 4ms/step - loss: 0.3571 - accuracy: 0.8653 - val_loss: 0.3513 - val_accuracy: 0.8627\n",
      "Epoch 60/100\n",
      "88/88 [==============================] - 0s 3ms/step - loss: 0.3520 - accuracy: 0.8682 - val_loss: 0.3484 - val_accuracy: 0.8499\n",
      "Epoch 61/100\n",
      "88/88 [==============================] - 0s 4ms/step - loss: 0.3466 - accuracy: 0.8710 - val_loss: 0.3422 - val_accuracy: 0.8542\n",
      "Epoch 62/100\n",
      "88/88 [==============================] - 0s 3ms/step - loss: 0.3515 - accuracy: 0.8637 - val_loss: 0.3384 - val_accuracy: 0.8542\n",
      "Epoch 63/100\n",
      "88/88 [==============================] - 0s 3ms/step - loss: 0.3470 - accuracy: 0.8673 - val_loss: 0.3392 - val_accuracy: 0.8535\n",
      "Epoch 64/100\n",
      "88/88 [==============================] - 0s 3ms/step - loss: 0.3362 - accuracy: 0.8719 - val_loss: 0.3351 - val_accuracy: 0.8620\n",
      "Epoch 65/100\n",
      "88/88 [==============================] - 0s 3ms/step - loss: 0.3326 - accuracy: 0.8748 - val_loss: 0.3338 - val_accuracy: 0.8599\n",
      "Epoch 66/100\n",
      "88/88 [==============================] - 0s 4ms/step - loss: 0.3332 - accuracy: 0.8673 - val_loss: 0.3258 - val_accuracy: 0.8599\n",
      "Epoch 67/100\n",
      "88/88 [==============================] - 0s 3ms/step - loss: 0.3275 - accuracy: 0.8751 - val_loss: 0.3215 - val_accuracy: 0.8734\n",
      "Epoch 68/100\n",
      "88/88 [==============================] - 0s 4ms/step - loss: 0.3237 - accuracy: 0.8732 - val_loss: 0.3254 - val_accuracy: 0.8713\n",
      "Epoch 69/100\n",
      "88/88 [==============================] - 0s 3ms/step - loss: 0.3258 - accuracy: 0.8746 - val_loss: 0.3256 - val_accuracy: 0.8713\n",
      "Epoch 70/100\n",
      "88/88 [==============================] - 0s 3ms/step - loss: 0.3245 - accuracy: 0.8737 - val_loss: 0.3205 - val_accuracy: 0.8698\n",
      "Epoch 71/100\n",
      "88/88 [==============================] - 0s 4ms/step - loss: 0.3241 - accuracy: 0.8744 - val_loss: 0.3220 - val_accuracy: 0.8627\n",
      "Epoch 72/100\n",
      "88/88 [==============================] - 0s 4ms/step - loss: 0.3211 - accuracy: 0.8742 - val_loss: 0.3124 - val_accuracy: 0.8684\n",
      "Epoch 73/100\n",
      "88/88 [==============================] - 0s 4ms/step - loss: 0.3164 - accuracy: 0.8790 - val_loss: 0.3190 - val_accuracy: 0.8592\n",
      "Epoch 74/100\n",
      "88/88 [==============================] - 0s 3ms/step - loss: 0.3145 - accuracy: 0.8765 - val_loss: 0.3071 - val_accuracy: 0.8706\n",
      "Epoch 75/100\n",
      "88/88 [==============================] - 0s 3ms/step - loss: 0.3108 - accuracy: 0.8803 - val_loss: 0.3148 - val_accuracy: 0.8634\n",
      "Epoch 76/100\n",
      "88/88 [==============================] - 0s 3ms/step - loss: 0.3094 - accuracy: 0.8758 - val_loss: 0.3044 - val_accuracy: 0.8762\n",
      "Epoch 77/100\n",
      "88/88 [==============================] - 0s 3ms/step - loss: 0.3074 - accuracy: 0.8838 - val_loss: 0.3071 - val_accuracy: 0.8698\n",
      "Epoch 78/100\n",
      "88/88 [==============================] - 0s 3ms/step - loss: 0.3090 - accuracy: 0.8765 - val_loss: 0.3289 - val_accuracy: 0.8506\n",
      "Epoch 79/100\n",
      "88/88 [==============================] - 0s 3ms/step - loss: 0.3061 - accuracy: 0.8781 - val_loss: 0.3218 - val_accuracy: 0.8755\n",
      "Epoch 80/100\n",
      "88/88 [==============================] - 0s 3ms/step - loss: 0.3046 - accuracy: 0.8794 - val_loss: 0.2995 - val_accuracy: 0.8741\n",
      "Epoch 81/100\n",
      "88/88 [==============================] - 0s 3ms/step - loss: 0.3068 - accuracy: 0.8749 - val_loss: 0.3005 - val_accuracy: 0.8727\n",
      "Epoch 82/100\n",
      "88/88 [==============================] - 0s 3ms/step - loss: 0.3050 - accuracy: 0.8785 - val_loss: 0.2940 - val_accuracy: 0.8855\n",
      "Epoch 83/100\n",
      "88/88 [==============================] - 0s 3ms/step - loss: 0.2980 - accuracy: 0.8810 - val_loss: 0.2951 - val_accuracy: 0.8691\n",
      "Epoch 84/100\n",
      "88/88 [==============================] - 0s 4ms/step - loss: 0.3023 - accuracy: 0.8787 - val_loss: 0.2980 - val_accuracy: 0.8734\n",
      "Epoch 85/100\n",
      "88/88 [==============================] - 0s 4ms/step - loss: 0.2980 - accuracy: 0.8808 - val_loss: 0.2991 - val_accuracy: 0.8706\n",
      "Epoch 86/100\n",
      "88/88 [==============================] - 0s 4ms/step - loss: 0.2978 - accuracy: 0.8787 - val_loss: 0.3059 - val_accuracy: 0.8606\n",
      "Epoch 87/100\n",
      "88/88 [==============================] - 0s 3ms/step - loss: 0.2961 - accuracy: 0.8810 - val_loss: 0.3049 - val_accuracy: 0.8755\n",
      "Epoch 88/100\n",
      "88/88 [==============================] - 0s 4ms/step - loss: 0.2944 - accuracy: 0.8792 - val_loss: 0.2870 - val_accuracy: 0.8706\n",
      "Epoch 89/100\n",
      "88/88 [==============================] - 0s 4ms/step - loss: 0.2902 - accuracy: 0.8865 - val_loss: 0.2912 - val_accuracy: 0.8805\n",
      "Epoch 90/100\n",
      "88/88 [==============================] - 0s 4ms/step - loss: 0.2925 - accuracy: 0.8820 - val_loss: 0.2863 - val_accuracy: 0.8720\n",
      "Epoch 91/100\n",
      "88/88 [==============================] - 0s 3ms/step - loss: 0.2929 - accuracy: 0.8820 - val_loss: 0.2943 - val_accuracy: 0.8848\n",
      "Epoch 92/100\n",
      "88/88 [==============================] - 0s 3ms/step - loss: 0.2887 - accuracy: 0.8865 - val_loss: 0.2925 - val_accuracy: 0.8834\n",
      "Epoch 93/100\n",
      "88/88 [==============================] - 0s 3ms/step - loss: 0.2895 - accuracy: 0.8815 - val_loss: 0.2831 - val_accuracy: 0.8826\n",
      "Epoch 94/100\n",
      "88/88 [==============================] - 0s 3ms/step - loss: 0.2841 - accuracy: 0.8845 - val_loss: 0.2819 - val_accuracy: 0.8834\n",
      "Epoch 95/100\n",
      "88/88 [==============================] - 0s 4ms/step - loss: 0.2896 - accuracy: 0.8837 - val_loss: 0.2974 - val_accuracy: 0.8727\n",
      "Epoch 96/100\n",
      "88/88 [==============================] - 0s 4ms/step - loss: 0.2846 - accuracy: 0.8837 - val_loss: 0.2829 - val_accuracy: 0.8770\n",
      "Epoch 97/100\n",
      "88/88 [==============================] - 0s 3ms/step - loss: 0.2879 - accuracy: 0.8826 - val_loss: 0.2832 - val_accuracy: 0.8826\n",
      "Epoch 98/100\n",
      "88/88 [==============================] - 0s 4ms/step - loss: 0.2818 - accuracy: 0.8879 - val_loss: 0.2862 - val_accuracy: 0.8734\n",
      "Epoch 99/100\n",
      "88/88 [==============================] - 0s 3ms/step - loss: 0.2798 - accuracy: 0.8874 - val_loss: 0.3005 - val_accuracy: 0.8734\n",
      "Epoch 100/100\n",
      "88/88 [==============================] - 0s 3ms/step - loss: 0.2816 - accuracy: 0.8856 - val_loss: 0.2888 - val_accuracy: 0.8784\n"
     ]
    }
   ],
   "source": [
    "model.compile(optimizer='adam', loss='sparse_categorical_crossentropy', metrics=['accuracy'])\n",
    "\n",
    "# Train the model\n",
    "history = model.fit(X_train, y_train, epochs=100, batch_size=64, validation_split=0.2)\n"
   ]
  },
  {
   "cell_type": "code",
   "execution_count": 16,
   "metadata": {},
   "outputs": [
    {
     "name": "stdout",
     "output_type": "stream",
     "text": [
      "55/55 [==============================] - 0s 2ms/step\n",
      "[[1.10508743e-27 2.46476971e-11 1.31704565e-02 9.51517403e-01\n",
      "  3.53120193e-02 1.42769721e-07]\n",
      " [4.04543564e-17 2.45937326e-06 3.69454265e-01 6.30282998e-01\n",
      "  2.60231463e-04 4.65388526e-11]\n",
      " [0.00000000e+00 1.04500530e-23 8.02778011e-10 3.28547409e-04\n",
      "  9.17351127e-01 8.23203921e-02]\n",
      " ...\n",
      " [2.78806596e-07 2.52183110e-01 7.47483492e-01 3.33108852e-04\n",
      "  2.74766798e-12 2.86797089e-20]\n",
      " [2.71444762e-04 9.17863488e-01 8.18647817e-02 2.00783717e-07\n",
      "  6.08736374e-16 1.36624603e-23]\n",
      " [0.00000000e+00 1.54327127e-30 3.50565592e-14 3.52952611e-07\n",
      "  3.63356061e-02 9.63664055e-01]]\n",
      "Test Accuracy (Threshold): 0.8935685828116107\n"
     ]
    }
   ],
   "source": [
    "# Convert true classes to one-hot encoding\n",
    "true_classes_one_hot = tf.keras.utils.to_categorical(y_test, num_classes=6)\n",
    "predicted_classes = model.predict(X_test)\n",
    "# print(predicted_classes)\n",
    "# Calculate accuracy\n",
    "accuracy = np.mean(np.argmax(predicted_classes, axis=1) == np.argmax(true_classes_one_hot, axis=1))\n",
    "print(\"Test Accuracy (Threshold):\", accuracy)\n"
   ]
  },
  {
   "cell_type": "code",
   "execution_count": 15,
   "metadata": {},
   "outputs": [
    {
     "name": "stderr",
     "output_type": "stream",
     "text": [
      "c:\\Users\\prit4\\OneDrive\\Desktop\\stuff\\active_Github_repos\\Mini_project\\myenv\\lib\\site-packages\\keras\\src\\engine\\training.py:3103: UserWarning: You are saving your model as an HDF5 file via `model.save()`. This file format is considered legacy. We recommend using instead the native Keras format, e.g. `model.save('my_model.keras')`.\n",
      "  saving_api.save_model(\n"
     ]
    }
   ],
   "source": [
    "model.save('model.h5')"
   ]
  }
 ],
 "metadata": {
  "kernelspec": {
   "display_name": "myenv",
   "language": "python",
   "name": "python3"
  },
  "language_info": {
   "codemirror_mode": {
    "name": "ipython",
    "version": 3
   },
   "file_extension": ".py",
   "mimetype": "text/x-python",
   "name": "python",
   "nbconvert_exporter": "python",
   "pygments_lexer": "ipython3",
   "version": "3.10.11"
  }
 },
 "nbformat": 4,
 "nbformat_minor": 2
}
