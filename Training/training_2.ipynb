{
 "cells": [
  {
   "cell_type": "code",
   "execution_count": 1,
   "metadata": {},
   "outputs": [
    {
     "name": "stderr",
     "output_type": "stream",
     "text": [
      "C:\\Users\\prit4\\AppData\\Local\\Temp\\ipykernel_18064\\291067091.py:1: DeprecationWarning: \n",
      "Pyarrow will become a required dependency of pandas in the next major release of pandas (pandas 3.0),\n",
      "(to allow more performant data types, such as the Arrow string type, and better interoperability with other libraries)\n",
      "but was not found to be installed on your system.\n",
      "If this would cause problems for you,\n",
      "please provide us feedback at https://github.com/pandas-dev/pandas/issues/54466\n",
      "        \n",
      "  import pandas as pd\n"
     ]
    },
    {
     "name": "stdout",
     "output_type": "stream",
     "text": [
      "WARNING:tensorflow:From c:\\Users\\prit4\\OneDrive\\Desktop\\stuff\\active_Github_repos\\Mini_project\\myenv\\lib\\site-packages\\keras\\src\\losses.py:2976: The name tf.losses.sparse_softmax_cross_entropy is deprecated. Please use tf.compat.v1.losses.sparse_softmax_cross_entropy instead.\n",
      "\n"
     ]
    }
   ],
   "source": [
    "import pandas as pd\n",
    "import tensorflow as tf\n",
    "from sklearn.preprocessing import MinMaxScaler\n",
    "from sklearn.model_selection import train_test_split\n",
    "import numpy as np"
   ]
  },
  {
   "cell_type": "code",
   "execution_count": 2,
   "metadata": {},
   "outputs": [],
   "source": [
    "dataset_path = \"dataset.csv\"\n",
    "df = pd.read_csv(dataset_path)"
   ]
  },
  {
   "cell_type": "code",
   "execution_count": 3,
   "metadata": {},
   "outputs": [
    {
     "name": "stdout",
     "output_type": "stream",
     "text": [
      "Negative values removed from the dataset.\n"
     ]
    }
   ],
   "source": [
    "# Remove negative values from the dataset\n",
    "for column in df.select_dtypes(include=['int64', 'float64']).columns:\n",
    "    df = df[df[column] >= 0]\n",
    "\n",
    "print('Negative values removed from the dataset.')"
   ]
  },
  {
   "cell_type": "code",
   "execution_count": 4,
   "metadata": {},
   "outputs": [],
   "source": [
    "# scaler = MinMaxScaler()\n",
    "# scaled_features = scaler.fit_transform(df[['month', 'day', 'time', 'humidity', 'tempC']])\n",
    "# print(scaled_features)"
   ]
  },
  {
   "cell_type": "code",
   "execution_count": 5,
   "metadata": {},
   "outputs": [
    {
     "name": "stdout",
     "output_type": "stream",
     "text": [
      "      month       day      time  humidity  tempC\n",
      "0  0.083333  0.032258  0.000000      0.74   0.36\n",
      "1  0.083333  0.032258  0.041667      0.78   0.36\n",
      "2  0.083333  0.032258  0.083333      0.82   0.34\n",
      "3  0.083333  0.032258  0.125000      0.85   0.34\n",
      "4  0.083333  0.032258  0.166667      0.83   0.34\n"
     ]
    }
   ],
   "source": [
    "scaled_features = pd.DataFrame()\n",
    "scaled_features['month'] = df['month'] / 12\n",
    "scaled_features['day'] = df['day'] / 31\n",
    "scaled_features['time'] = df['time'] / 24\n",
    "scaled_features['humidity'] = df['humidity'] / 100\n",
    "scaled_features['tempC'] = df['tempC'] / 50\n",
    "print(scaled_features.head())"
   ]
  },
  {
   "cell_type": "code",
   "execution_count": 6,
   "metadata": {},
   "outputs": [],
   "source": [
    "X = scaled_features\n",
    "y = df['fan_speed'].values\n",
    "X_train, X_test, y_train, y_test = train_test_split(X, y, test_size=0.2, random_state=0)\n"
   ]
  },
  {
   "cell_type": "code",
   "execution_count": 7,
   "metadata": {},
   "outputs": [
    {
     "name": "stdout",
     "output_type": "stream",
     "text": [
      "WARNING:tensorflow:From c:\\Users\\prit4\\OneDrive\\Desktop\\stuff\\active_Github_repos\\Mini_project\\myenv\\lib\\site-packages\\keras\\src\\backend.py:873: The name tf.get_default_graph is deprecated. Please use tf.compat.v1.get_default_graph instead.\n",
      "\n"
     ]
    }
   ],
   "source": [
    "model = tf.keras.Sequential([\n",
    "    tf.keras.layers.Dense(50, activation='relu', input_shape=(5,)),\n",
    "    tf.keras.layers.Dense(50, activation='relu'),\n",
    "    tf.keras.layers.Dense(6, activation='softmax')  # Softmax activation for multi-class classification\n",
    "])"
   ]
  },
  {
   "cell_type": "code",
   "execution_count": 19,
   "metadata": {},
   "outputs": [
    {
     "name": "stdout",
     "output_type": "stream",
     "text": [
      "Epoch 1/100\n",
      "88/88 [==============================] - 1s 3ms/step - loss: 0.2353 - accuracy: 0.8957 - val_loss: 0.2370 - val_accuracy: 0.8898\n",
      "Epoch 2/100\n",
      "88/88 [==============================] - 0s 2ms/step - loss: 0.2297 - accuracy: 0.8947 - val_loss: 0.2452 - val_accuracy: 0.8876\n",
      "Epoch 3/100\n",
      "88/88 [==============================] - 0s 2ms/step - loss: 0.2293 - accuracy: 0.9022 - val_loss: 0.2419 - val_accuracy: 0.8905\n",
      "Epoch 4/100\n",
      "88/88 [==============================] - 0s 2ms/step - loss: 0.2297 - accuracy: 0.8997 - val_loss: 0.2492 - val_accuracy: 0.8898\n",
      "Epoch 5/100\n",
      "88/88 [==============================] - 0s 2ms/step - loss: 0.2284 - accuracy: 0.9007 - val_loss: 0.2378 - val_accuracy: 0.8905\n",
      "Epoch 6/100\n",
      "88/88 [==============================] - 0s 2ms/step - loss: 0.2308 - accuracy: 0.9030 - val_loss: 0.2368 - val_accuracy: 0.8890\n",
      "Epoch 7/100\n",
      "88/88 [==============================] - 0s 2ms/step - loss: 0.2288 - accuracy: 0.8990 - val_loss: 0.2499 - val_accuracy: 0.8855\n",
      "Epoch 8/100\n",
      "88/88 [==============================] - 0s 2ms/step - loss: 0.2281 - accuracy: 0.9025 - val_loss: 0.2441 - val_accuracy: 0.8933\n",
      "Epoch 9/100\n",
      "88/88 [==============================] - 0s 2ms/step - loss: 0.2292 - accuracy: 0.9027 - val_loss: 0.2342 - val_accuracy: 0.8905\n",
      "Epoch 10/100\n",
      "88/88 [==============================] - 0s 2ms/step - loss: 0.2258 - accuracy: 0.9025 - val_loss: 0.2399 - val_accuracy: 0.8926\n",
      "Epoch 11/100\n",
      "88/88 [==============================] - 0s 2ms/step - loss: 0.2252 - accuracy: 0.9029 - val_loss: 0.2394 - val_accuracy: 0.8947\n",
      "Epoch 12/100\n",
      "88/88 [==============================] - 0s 2ms/step - loss: 0.2297 - accuracy: 0.9002 - val_loss: 0.2325 - val_accuracy: 0.8983\n",
      "Epoch 13/100\n",
      "88/88 [==============================] - 0s 2ms/step - loss: 0.2328 - accuracy: 0.8995 - val_loss: 0.2357 - val_accuracy: 0.8926\n",
      "Epoch 14/100\n",
      "88/88 [==============================] - 0s 2ms/step - loss: 0.2342 - accuracy: 0.8986 - val_loss: 0.2323 - val_accuracy: 0.8933\n",
      "Epoch 15/100\n",
      "88/88 [==============================] - 0s 2ms/step - loss: 0.2306 - accuracy: 0.8997 - val_loss: 0.2343 - val_accuracy: 0.8947\n",
      "Epoch 16/100\n",
      "88/88 [==============================] - 0s 2ms/step - loss: 0.2326 - accuracy: 0.8995 - val_loss: 0.2313 - val_accuracy: 0.8947\n",
      "Epoch 17/100\n",
      "88/88 [==============================] - 0s 2ms/step - loss: 0.2254 - accuracy: 0.8984 - val_loss: 0.2399 - val_accuracy: 0.8962\n",
      "Epoch 18/100\n",
      "88/88 [==============================] - 0s 2ms/step - loss: 0.2244 - accuracy: 0.8991 - val_loss: 0.2345 - val_accuracy: 0.8926\n",
      "Epoch 19/100\n",
      "88/88 [==============================] - 0s 2ms/step - loss: 0.2276 - accuracy: 0.9004 - val_loss: 0.2352 - val_accuracy: 0.8947\n",
      "Epoch 20/100\n",
      "88/88 [==============================] - 0s 2ms/step - loss: 0.2299 - accuracy: 0.8995 - val_loss: 0.2426 - val_accuracy: 0.8855\n",
      "Epoch 21/100\n",
      "88/88 [==============================] - 0s 2ms/step - loss: 0.2252 - accuracy: 0.9020 - val_loss: 0.2349 - val_accuracy: 0.8976\n",
      "Epoch 22/100\n",
      "88/88 [==============================] - 0s 2ms/step - loss: 0.2269 - accuracy: 0.9004 - val_loss: 0.2343 - val_accuracy: 0.8947\n",
      "Epoch 23/100\n",
      "88/88 [==============================] - 0s 2ms/step - loss: 0.2297 - accuracy: 0.8988 - val_loss: 0.2398 - val_accuracy: 0.8869\n",
      "Epoch 24/100\n",
      "88/88 [==============================] - 0s 2ms/step - loss: 0.2274 - accuracy: 0.8982 - val_loss: 0.2336 - val_accuracy: 0.8933\n",
      "Epoch 25/100\n",
      "88/88 [==============================] - 0s 2ms/step - loss: 0.2323 - accuracy: 0.8981 - val_loss: 0.2409 - val_accuracy: 0.8898\n",
      "Epoch 26/100\n",
      "88/88 [==============================] - 0s 2ms/step - loss: 0.2258 - accuracy: 0.8995 - val_loss: 0.2435 - val_accuracy: 0.8933\n",
      "Epoch 27/100\n",
      "88/88 [==============================] - 0s 2ms/step - loss: 0.2331 - accuracy: 0.8954 - val_loss: 0.2348 - val_accuracy: 0.8841\n",
      "Epoch 28/100\n",
      "88/88 [==============================] - 0s 2ms/step - loss: 0.2303 - accuracy: 0.8981 - val_loss: 0.2556 - val_accuracy: 0.8791\n",
      "Epoch 29/100\n",
      "88/88 [==============================] - 0s 2ms/step - loss: 0.2259 - accuracy: 0.9011 - val_loss: 0.2409 - val_accuracy: 0.8912\n",
      "Epoch 30/100\n",
      "88/88 [==============================] - 0s 2ms/step - loss: 0.2256 - accuracy: 0.9020 - val_loss: 0.2340 - val_accuracy: 0.8940\n",
      "Epoch 31/100\n",
      "88/88 [==============================] - 0s 2ms/step - loss: 0.2265 - accuracy: 0.8995 - val_loss: 0.2362 - val_accuracy: 0.8912\n",
      "Epoch 32/100\n",
      "88/88 [==============================] - 0s 2ms/step - loss: 0.2240 - accuracy: 0.9027 - val_loss: 0.2377 - val_accuracy: 0.8912\n",
      "Epoch 33/100\n",
      "88/88 [==============================] - 0s 2ms/step - loss: 0.2277 - accuracy: 0.8997 - val_loss: 0.2388 - val_accuracy: 0.8926\n",
      "Epoch 34/100\n",
      "88/88 [==============================] - 0s 2ms/step - loss: 0.2302 - accuracy: 0.9006 - val_loss: 0.2369 - val_accuracy: 0.8869\n",
      "Epoch 35/100\n",
      "88/88 [==============================] - 0s 2ms/step - loss: 0.2242 - accuracy: 0.9020 - val_loss: 0.2415 - val_accuracy: 0.8876\n",
      "Epoch 36/100\n",
      "88/88 [==============================] - 0s 2ms/step - loss: 0.2261 - accuracy: 0.9009 - val_loss: 0.2318 - val_accuracy: 0.8919\n",
      "Epoch 37/100\n",
      "88/88 [==============================] - 0s 2ms/step - loss: 0.2277 - accuracy: 0.9020 - val_loss: 0.2487 - val_accuracy: 0.8905\n",
      "Epoch 38/100\n",
      "88/88 [==============================] - 0s 2ms/step - loss: 0.2297 - accuracy: 0.8995 - val_loss: 0.2304 - val_accuracy: 0.8919\n",
      "Epoch 39/100\n",
      "88/88 [==============================] - 0s 2ms/step - loss: 0.2245 - accuracy: 0.9055 - val_loss: 0.2325 - val_accuracy: 0.8919\n",
      "Epoch 40/100\n",
      "88/88 [==============================] - 0s 2ms/step - loss: 0.2245 - accuracy: 0.9045 - val_loss: 0.2419 - val_accuracy: 0.8826\n",
      "Epoch 41/100\n",
      "88/88 [==============================] - 0s 2ms/step - loss: 0.2252 - accuracy: 0.9009 - val_loss: 0.2455 - val_accuracy: 0.8962\n",
      "Epoch 42/100\n",
      "88/88 [==============================] - 0s 2ms/step - loss: 0.2257 - accuracy: 0.9009 - val_loss: 0.2438 - val_accuracy: 0.8954\n",
      "Epoch 43/100\n",
      "88/88 [==============================] - 0s 2ms/step - loss: 0.2253 - accuracy: 0.9034 - val_loss: 0.2302 - val_accuracy: 0.8983\n",
      "Epoch 44/100\n",
      "88/88 [==============================] - 0s 2ms/step - loss: 0.2219 - accuracy: 0.9018 - val_loss: 0.2357 - val_accuracy: 0.8962\n",
      "Epoch 45/100\n",
      "88/88 [==============================] - 0s 2ms/step - loss: 0.2269 - accuracy: 0.9025 - val_loss: 0.2282 - val_accuracy: 0.8962\n",
      "Epoch 46/100\n",
      "88/88 [==============================] - 0s 2ms/step - loss: 0.2245 - accuracy: 0.9006 - val_loss: 0.2342 - val_accuracy: 0.8919\n",
      "Epoch 47/100\n",
      "88/88 [==============================] - 0s 2ms/step - loss: 0.2413 - accuracy: 0.8920 - val_loss: 0.2390 - val_accuracy: 0.9040\n",
      "Epoch 48/100\n",
      "88/88 [==============================] - 0s 2ms/step - loss: 0.2287 - accuracy: 0.8977 - val_loss: 0.2522 - val_accuracy: 0.8770\n",
      "Epoch 49/100\n",
      "88/88 [==============================] - 0s 2ms/step - loss: 0.2240 - accuracy: 0.8993 - val_loss: 0.2471 - val_accuracy: 0.8905\n",
      "Epoch 50/100\n",
      "88/88 [==============================] - 0s 2ms/step - loss: 0.2249 - accuracy: 0.9041 - val_loss: 0.2490 - val_accuracy: 0.8819\n",
      "Epoch 51/100\n",
      "88/88 [==============================] - 0s 2ms/step - loss: 0.2225 - accuracy: 0.9007 - val_loss: 0.2592 - val_accuracy: 0.8805\n",
      "Epoch 52/100\n",
      "88/88 [==============================] - 0s 2ms/step - loss: 0.2266 - accuracy: 0.9016 - val_loss: 0.2389 - val_accuracy: 0.8919\n",
      "Epoch 53/100\n",
      "88/88 [==============================] - 0s 2ms/step - loss: 0.2247 - accuracy: 0.8997 - val_loss: 0.2383 - val_accuracy: 0.8969\n",
      "Epoch 54/100\n",
      "88/88 [==============================] - 0s 2ms/step - loss: 0.2364 - accuracy: 0.8957 - val_loss: 0.2538 - val_accuracy: 0.8912\n",
      "Epoch 55/100\n",
      "88/88 [==============================] - 0s 2ms/step - loss: 0.2265 - accuracy: 0.9023 - val_loss: 0.2496 - val_accuracy: 0.8926\n",
      "Epoch 56/100\n",
      "88/88 [==============================] - 0s 2ms/step - loss: 0.2275 - accuracy: 0.8998 - val_loss: 0.2485 - val_accuracy: 0.8848\n",
      "Epoch 57/100\n",
      "88/88 [==============================] - 0s 2ms/step - loss: 0.2231 - accuracy: 0.9030 - val_loss: 0.2301 - val_accuracy: 0.8976\n",
      "Epoch 58/100\n",
      "88/88 [==============================] - 0s 2ms/step - loss: 0.2212 - accuracy: 0.9023 - val_loss: 0.2306 - val_accuracy: 0.8954\n",
      "Epoch 59/100\n",
      "88/88 [==============================] - 0s 2ms/step - loss: 0.2252 - accuracy: 0.9022 - val_loss: 0.2765 - val_accuracy: 0.8819\n",
      "Epoch 60/100\n",
      "88/88 [==============================] - 0s 2ms/step - loss: 0.2272 - accuracy: 0.8998 - val_loss: 0.2343 - val_accuracy: 0.8940\n",
      "Epoch 61/100\n",
      "88/88 [==============================] - 0s 2ms/step - loss: 0.2224 - accuracy: 0.9050 - val_loss: 0.2329 - val_accuracy: 0.8962\n",
      "Epoch 62/100\n",
      "88/88 [==============================] - 0s 2ms/step - loss: 0.2307 - accuracy: 0.9007 - val_loss: 0.2357 - val_accuracy: 0.8990\n",
      "Epoch 63/100\n",
      "88/88 [==============================] - 0s 2ms/step - loss: 0.2213 - accuracy: 0.9023 - val_loss: 0.2378 - val_accuracy: 0.8947\n",
      "Epoch 64/100\n",
      "88/88 [==============================] - 0s 2ms/step - loss: 0.2316 - accuracy: 0.8997 - val_loss: 0.2356 - val_accuracy: 0.8947\n",
      "Epoch 65/100\n",
      "88/88 [==============================] - 0s 2ms/step - loss: 0.2208 - accuracy: 0.9025 - val_loss: 0.2488 - val_accuracy: 0.8862\n",
      "Epoch 66/100\n",
      "88/88 [==============================] - 0s 2ms/step - loss: 0.2239 - accuracy: 0.9045 - val_loss: 0.2286 - val_accuracy: 0.8947\n",
      "Epoch 67/100\n",
      "88/88 [==============================] - 0s 2ms/step - loss: 0.2224 - accuracy: 0.9018 - val_loss: 0.2258 - val_accuracy: 0.8976\n",
      "Epoch 68/100\n",
      "88/88 [==============================] - 0s 2ms/step - loss: 0.2188 - accuracy: 0.9048 - val_loss: 0.2399 - val_accuracy: 0.8962\n",
      "Epoch 69/100\n",
      "88/88 [==============================] - 0s 2ms/step - loss: 0.2223 - accuracy: 0.9032 - val_loss: 0.2311 - val_accuracy: 0.8926\n",
      "Epoch 70/100\n",
      "88/88 [==============================] - 0s 2ms/step - loss: 0.2217 - accuracy: 0.9022 - val_loss: 0.2594 - val_accuracy: 0.8898\n",
      "Epoch 71/100\n",
      "88/88 [==============================] - 0s 2ms/step - loss: 0.2284 - accuracy: 0.8991 - val_loss: 0.2332 - val_accuracy: 0.8933\n",
      "Epoch 72/100\n",
      "88/88 [==============================] - 0s 2ms/step - loss: 0.2249 - accuracy: 0.8995 - val_loss: 0.2332 - val_accuracy: 0.8962\n",
      "Epoch 73/100\n",
      "88/88 [==============================] - 0s 2ms/step - loss: 0.2209 - accuracy: 0.9036 - val_loss: 0.2420 - val_accuracy: 0.8898\n",
      "Epoch 74/100\n",
      "88/88 [==============================] - 0s 2ms/step - loss: 0.2241 - accuracy: 0.9006 - val_loss: 0.2340 - val_accuracy: 0.8940\n",
      "Epoch 75/100\n",
      "88/88 [==============================] - 0s 2ms/step - loss: 0.2242 - accuracy: 0.9020 - val_loss: 0.2374 - val_accuracy: 0.8940\n",
      "Epoch 76/100\n",
      "88/88 [==============================] - 0s 2ms/step - loss: 0.2212 - accuracy: 0.9018 - val_loss: 0.2300 - val_accuracy: 0.8969\n",
      "Epoch 77/100\n",
      "88/88 [==============================] - 0s 2ms/step - loss: 0.2245 - accuracy: 0.8997 - val_loss: 0.2345 - val_accuracy: 0.8947\n",
      "Epoch 78/100\n",
      "88/88 [==============================] - 0s 2ms/step - loss: 0.2258 - accuracy: 0.8966 - val_loss: 0.2404 - val_accuracy: 0.8962\n",
      "Epoch 79/100\n",
      "88/88 [==============================] - 0s 2ms/step - loss: 0.2265 - accuracy: 0.8986 - val_loss: 0.2344 - val_accuracy: 0.8883\n",
      "Epoch 80/100\n",
      "88/88 [==============================] - 0s 2ms/step - loss: 0.2232 - accuracy: 0.9016 - val_loss: 0.2369 - val_accuracy: 0.8905\n",
      "Epoch 81/100\n",
      "88/88 [==============================] - 0s 2ms/step - loss: 0.2250 - accuracy: 0.9022 - val_loss: 0.2407 - val_accuracy: 0.8962\n",
      "Epoch 82/100\n",
      "88/88 [==============================] - 0s 2ms/step - loss: 0.2211 - accuracy: 0.9013 - val_loss: 0.2264 - val_accuracy: 0.8983\n",
      "Epoch 83/100\n",
      "88/88 [==============================] - 0s 2ms/step - loss: 0.2207 - accuracy: 0.9030 - val_loss: 0.2340 - val_accuracy: 0.8954\n",
      "Epoch 84/100\n",
      "88/88 [==============================] - 0s 2ms/step - loss: 0.2214 - accuracy: 0.9014 - val_loss: 0.2386 - val_accuracy: 0.8855\n",
      "Epoch 85/100\n",
      "88/88 [==============================] - 0s 2ms/step - loss: 0.2274 - accuracy: 0.9002 - val_loss: 0.2308 - val_accuracy: 0.8947\n",
      "Epoch 86/100\n",
      "88/88 [==============================] - 0s 2ms/step - loss: 0.2250 - accuracy: 0.9007 - val_loss: 0.2308 - val_accuracy: 0.8883\n",
      "Epoch 87/100\n",
      "88/88 [==============================] - 0s 2ms/step - loss: 0.2221 - accuracy: 0.8990 - val_loss: 0.2511 - val_accuracy: 0.8819\n",
      "Epoch 88/100\n",
      "88/88 [==============================] - 0s 2ms/step - loss: 0.2190 - accuracy: 0.9034 - val_loss: 0.2556 - val_accuracy: 0.8734\n",
      "Epoch 89/100\n",
      "88/88 [==============================] - 0s 2ms/step - loss: 0.2233 - accuracy: 0.9036 - val_loss: 0.2406 - val_accuracy: 0.8798\n",
      "Epoch 90/100\n",
      "88/88 [==============================] - 0s 2ms/step - loss: 0.2254 - accuracy: 0.9009 - val_loss: 0.2324 - val_accuracy: 0.8954\n",
      "Epoch 91/100\n",
      "88/88 [==============================] - 0s 2ms/step - loss: 0.2299 - accuracy: 0.8975 - val_loss: 0.2297 - val_accuracy: 0.8876\n",
      "Epoch 92/100\n",
      "88/88 [==============================] - 0s 2ms/step - loss: 0.2179 - accuracy: 0.9052 - val_loss: 0.2259 - val_accuracy: 0.8926\n",
      "Epoch 93/100\n",
      "88/88 [==============================] - 0s 2ms/step - loss: 0.2211 - accuracy: 0.9025 - val_loss: 0.2306 - val_accuracy: 0.8947\n",
      "Epoch 94/100\n",
      "88/88 [==============================] - 0s 2ms/step - loss: 0.2198 - accuracy: 0.9050 - val_loss: 0.2587 - val_accuracy: 0.8770\n",
      "Epoch 95/100\n",
      "88/88 [==============================] - 0s 2ms/step - loss: 0.2183 - accuracy: 0.9054 - val_loss: 0.2301 - val_accuracy: 0.8926\n",
      "Epoch 96/100\n",
      "88/88 [==============================] - 0s 2ms/step - loss: 0.2452 - accuracy: 0.8904 - val_loss: 0.2439 - val_accuracy: 0.8898\n",
      "Epoch 97/100\n",
      "88/88 [==============================] - 0s 2ms/step - loss: 0.2210 - accuracy: 0.9048 - val_loss: 0.2320 - val_accuracy: 0.8883\n",
      "Epoch 98/100\n",
      "88/88 [==============================] - 0s 2ms/step - loss: 0.2260 - accuracy: 0.9014 - val_loss: 0.2348 - val_accuracy: 0.8919\n",
      "Epoch 99/100\n",
      "88/88 [==============================] - 0s 2ms/step - loss: 0.2262 - accuracy: 0.8982 - val_loss: 0.2541 - val_accuracy: 0.8812\n",
      "Epoch 100/100\n",
      "88/88 [==============================] - 0s 2ms/step - loss: 0.2219 - accuracy: 0.9018 - val_loss: 0.2299 - val_accuracy: 0.8962\n"
     ]
    }
   ],
   "source": [
    "model.compile(optimizer='adam', loss='sparse_categorical_crossentropy', metrics=['accuracy'])\n",
    "\n",
    "# Train the model\n",
    "history = model.fit(X_train, y_train, epochs=100, batch_size=64, validation_split=0.2)\n"
   ]
  },
  {
   "cell_type": "code",
   "execution_count": 20,
   "metadata": {},
   "outputs": [
    {
     "name": "stdout",
     "output_type": "stream",
     "text": [
      "55/55 [==============================] - 0s 932us/step\n",
      "Test Accuracy (Threshold): 0.9049516220830962\n"
     ]
    }
   ],
   "source": [
    "# Convert true classes to one-hot encoding\n",
    "true_classes_one_hot = tf.keras.utils.to_categorical(y_test, num_classes=6)\n",
    "predicted_classes = model.predict(X_test)\n",
    "# print(predicted_classes)\n",
    "# Calculate accuracy\n",
    "accuracy = np.mean(np.argmax(predicted_classes, axis=1) == np.argmax(true_classes_one_hot, axis=1))\n",
    "print(\"Test Accuracy (Threshold):\", accuracy)\n"
   ]
  },
  {
   "cell_type": "code",
   "execution_count": 21,
   "metadata": {},
   "outputs": [
    {
     "name": "stderr",
     "output_type": "stream",
     "text": [
      "c:\\Users\\prit4\\OneDrive\\Desktop\\stuff\\active_Github_repos\\Mini_project\\myenv\\lib\\site-packages\\keras\\src\\engine\\training.py:3103: UserWarning: You are saving your model as an HDF5 file via `model.save()`. This file format is considered legacy. We recommend using instead the native Keras format, e.g. `model.save('my_model.keras')`.\n",
      "  saving_api.save_model(\n"
     ]
    }
   ],
   "source": [
    "model.save('model.h5')"
   ]
  }
 ],
 "metadata": {
  "kernelspec": {
   "display_name": "myenv",
   "language": "python",
   "name": "python3"
  },
  "language_info": {
   "codemirror_mode": {
    "name": "ipython",
    "version": 3
   },
   "file_extension": ".py",
   "mimetype": "text/x-python",
   "name": "python",
   "nbconvert_exporter": "python",
   "pygments_lexer": "ipython3",
   "version": "3.10.11"
  }
 },
 "nbformat": 4,
 "nbformat_minor": 2
}
